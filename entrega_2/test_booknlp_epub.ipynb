{
 "cells": [
  {
   "cell_type": "code",
   "execution_count": 1,
   "metadata": {},
   "outputs": [
    {
     "ename": "ModuleNotFoundError",
     "evalue": "No module named 'ftfy'",
     "output_type": "error",
     "traceback": [
      "\u001b[1;31m---------------------------------------------------------------------------\u001b[0m",
      "\u001b[1;31mModuleNotFoundError\u001b[0m                       Traceback (most recent call last)",
      "\u001b[1;32mg:\\Mi unidad\\Cuarto\\NLP\\NLP Grupo\\Codigo\\test_booknlp_epub.ipynb Cell 1\u001b[0m line \u001b[0;36m2\n\u001b[0;32m      <a href='vscode-notebook-cell:/g%3A/Mi%20unidad/Cuarto/NLP/NLP%20Grupo/Codigo/test_booknlp_epub.ipynb#W0sZmlsZQ%3D%3D?line=0'>1</a>\u001b[0m \u001b[39mimport\u001b[39;00m \u001b[39mtextract\u001b[39;00m\n\u001b[1;32m----> <a href='vscode-notebook-cell:/g%3A/Mi%20unidad/Cuarto/NLP/NLP%20Grupo/Codigo/test_booknlp_epub.ipynb#W0sZmlsZQ%3D%3D?line=1'>2</a>\u001b[0m \u001b[39mimport\u001b[39;00m \u001b[39mftfy\u001b[39;00m\n\u001b[0;32m      <a href='vscode-notebook-cell:/g%3A/Mi%20unidad/Cuarto/NLP/NLP%20Grupo/Codigo/test_booknlp_epub.ipynb#W0sZmlsZQ%3D%3D?line=3'>4</a>\u001b[0m fileIn \u001b[39m=\u001b[39m \u001b[39m\"\u001b[39m\u001b[39m../Corpus/Epub/TheWellOfAscension.epub\u001b[39m\u001b[39m\"\u001b[39m\n\u001b[0;32m      <a href='vscode-notebook-cell:/g%3A/Mi%20unidad/Cuarto/NLP/NLP%20Grupo/Codigo/test_booknlp_epub.ipynb#W0sZmlsZQ%3D%3D?line=4'>5</a>\u001b[0m fileOut \u001b[39m=\u001b[39m \u001b[39m\"\u001b[39m\u001b[39m../Corpus/Txt/TheWellOfAscension.txt\u001b[39m\u001b[39m\"\u001b[39m\n",
      "\u001b[1;31mModuleNotFoundError\u001b[0m: No module named 'ftfy'"
     ]
    }
   ],
   "source": [
    "import textract\n",
    "import ftfy\n",
    "\n",
    "fileIn = \"../Corpus/Epub/TheWellOfAscension.epub\"\n",
    "fileOut = \"../Corpus/Txt/TheWellOfAscension.txt\"\n",
    "\n",
    "\n",
    "content = textract.process(fileIn, encoding='utf-8').strip().decode('utf-8', errors='ignore').replace(\"OceanofPDF.com\", \"\").replace(\"Unknown\", \"\")\n",
    "content = ftfy.fix_text(content)\n",
    "print(content)\n",
    "with open(fileOut, 'w', encoding='utf-8') as fout:\n",
    "    fout.write(content)"
   ]
  },
  {
   "cell_type": "markdown",
   "metadata": {},
   "source": [
    "# 📕 BookNLP - Prueba"
   ]
  },
  {
   "cell_type": "code",
   "execution_count": 3,
   "metadata": {},
   "outputs": [
    {
     "name": "stdout",
     "output_type": "stream",
     "text": [
      "{'pipeline': 'entity,quote,supersense,event,coref', 'model': 'big', 'entity_model_path': 'C:\\\\Users\\\\theal\\\\booknlps\\\\entities_google\\\\bert_uncased_L-6_H-768_A-12', 'coref_model_path': 'C:\\\\Users\\\\theal\\\\booknlps\\\\coref_google\\\\bert_uncased_L-12_H-768_A-12', 'quote_attribution_model_path': 'C:\\\\Users\\\\theal\\\\booknlps\\\\speaker_google\\\\bert_uncased_L-12_H-768_A-12'}\n",
      "--- startup: 9.078 seconds ---\n",
      "--- spacy: 132.558 seconds ---\n",
      "--- entities: 2205.410 seconds ---\n",
      "--- quotes: 0.968 seconds ---\n",
      "--- attribution: 3491.981 seconds ---\n",
      "--- name coref: 4.196 seconds ---\n",
      "--- coref: 1560.800 seconds ---\n",
      "--- TOTAL (excl. startup): 7400.573 seconds ---, 881550 words\n"
     ]
    }
   ],
   "source": [
    "from booknlp.booknlp import BookNLP\n",
    "\n",
    "model_params={\n",
    "\t\t\"pipeline\":\"entity,quote,supersense,event,coref\",\n",
    "\t\t\"model\":\"big\",\n",
    "        \"entity_model_path\":r'C:\\Users\\theal\\booknlps\\entities_google\\bert_uncased_L-6_H-768_A-12',\n",
    "        \"coref_model_path\":r\"C:\\Users\\theal\\booknlps\\coref_google\\bert_uncased_L-12_H-768_A-12\",\n",
    "        \"quote_attribution_model_path\":r\"C:\\Users\\theal\\booknlps\\speaker_google\\bert_uncased_L-12_H-768_A-12\",\n",
    "\t}\n",
    "\n",
    "booknlp=BookNLP(\"en\", model_params)\n",
    "\n",
    "# Input file to process\n",
    "input_file=\"../Corpus/Txt/Trilogia_Pegados.txt\"\n",
    "\n",
    "# Output directory to store resulting files in\n",
    "output_directory=\"../BookNLP/Trilogia/\"\n",
    "\n",
    "# File within this directory will be named ${book_id}.entities, ${book_id}.tokens, etc.\n",
    "book_id=\"trilogia\"\n",
    "\n",
    "booknlp.process(input_file, output_directory, book_id)"
   ]
  }
 ],
 "metadata": {
  "kernelspec": {
   "display_name": "NLP",
   "language": "python",
   "name": "python3"
  },
  "language_info": {
   "codemirror_mode": {
    "name": "ipython",
    "version": 3
   },
   "file_extension": ".py",
   "mimetype": "text/x-python",
   "name": "python",
   "nbconvert_exporter": "python",
   "pygments_lexer": "ipython3",
   "version": "3.11.5"
  }
 },
 "nbformat": 4,
 "nbformat_minor": 2
}
