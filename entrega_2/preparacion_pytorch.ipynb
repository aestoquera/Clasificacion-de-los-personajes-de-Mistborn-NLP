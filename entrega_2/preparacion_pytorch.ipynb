{
 "cells": [
  {
   "cell_type": "code",
   "execution_count": 29,
   "metadata": {},
   "outputs": [],
   "source": [
    "from gensim.test.utils import datapath\n",
    "from gensim import utils\n",
    "import pandas as pd\n",
    "from sklearn.model_selection import train_test_split"
   ]
  },
  {
   "cell_type": "markdown",
   "metadata": {},
   "source": [
    "# 📖 Creación de CSV Dataset"
   ]
  },
  {
   "cell_type": "code",
   "execution_count": 35,
   "metadata": {},
   "outputs": [],
   "source": [
    "class MyCorpus:\n",
    "    \"\"\"An iterator that yields sentences (lists of str).\"\"\"\n",
    "\n",
    "    def __init__(self, paths):\n",
    "        self.paths = paths\n",
    "\n",
    "    def __iter__(self):\n",
    "        len_lines = 0\n",
    "        for path in self.paths:\n",
    "            with open(path, 'r') as file:\n",
    "                for line in file:\n",
    "                    yield {'idx' : len_lines, 'tokens' : utils.simple_preprocess(line)}\n",
    "                    len_lines += 1\n",
    "\n",
    "corpus_paths = ['../Corpus/Txt/TheFinalEmpire.txt', '../Corpus/Txt/TheHeroOfAges.txt']\n",
    "\n",
    "sentences = MyCorpus(corpus_paths)\n",
    "mistborn_df = pd.DataFrame(list(sentences))\n",
    "\n",
    "mistborn_df.set_index('idx', inplace=True)\n",
    "mistborn_df['sentence'] = mistborn_df['tokens'].str.join(' ')\n",
    "mistborn_df.drop('tokens', axis=1, inplace=True)\n",
    "\n",
    "# Ahora divido en train, val, test\n",
    "train_size = 0.7\n",
    "val_size = 0.3\n",
    "test_size = 0.3\n",
    "\n",
    "train_df, temp_df = train_test_split(mistborn_df, test_size=(val_size + test_size), random_state=42)\n",
    "val_df, test_df = train_test_split(temp_df, test_size=(test_size / (val_size + test_size)), random_state=42)\n",
    "\n",
    "# Add a 'split' column to indicate the split\n",
    "train_df['split'] = 'train'\n",
    "val_df['split'] = 'val'\n",
    "test_df['split'] = 'test'\n",
    "\n",
    "# Concatenate the DataFrames back together\n",
    "final_mistborn_df = pd.concat([train_df, val_df, test_df])\n",
    "final_mistborn_df = final_mistborn_df.sort_values(by='idx')"
   ]
  },
  {
   "cell_type": "code",
   "execution_count": 37,
   "metadata": {},
   "outputs": [
    {
     "data": {
      "text/html": [
       "<div>\n",
       "<style scoped>\n",
       "    .dataframe tbody tr th:only-of-type {\n",
       "        vertical-align: middle;\n",
       "    }\n",
       "\n",
       "    .dataframe tbody tr th {\n",
       "        vertical-align: top;\n",
       "    }\n",
       "\n",
       "    .dataframe thead th {\n",
       "        text-align: right;\n",
       "    }\n",
       "</style>\n",
       "<table border=\"1\" class=\"dataframe\">\n",
       "  <thead>\n",
       "    <tr style=\"text-align: right;\">\n",
       "      <th></th>\n",
       "      <th>sentence</th>\n",
       "      <th>split</th>\n",
       "    </tr>\n",
       "    <tr>\n",
       "      <th>idx</th>\n",
       "      <th></th>\n",
       "      <th></th>\n",
       "    </tr>\n",
       "  </thead>\n",
       "  <tbody>\n",
       "    <tr>\n",
       "      <th>0</th>\n",
       "      <td>ash fell from the sky</td>\n",
       "      <td>test</td>\n",
       "    </tr>\n",
       "    <tr>\n",
       "      <th>1</th>\n",
       "      <td>lord tresting frowned glancing up at the ruddy...</td>\n",
       "      <td>train</td>\n",
       "    </tr>\n",
       "    <tr>\n",
       "      <th>2</th>\n",
       "      <td>tresting stood with his guest on small hilltop...</td>\n",
       "      <td>train</td>\n",
       "    </tr>\n",
       "    <tr>\n",
       "      <th>3</th>\n",
       "      <td>tresting turned to the man standing beside him...</td>\n",
       "      <td>val</td>\n",
       "    </tr>\n",
       "    <tr>\n",
       "      <th>4</th>\n",
       "      <td>the obligator turned raising an eyebrow the mo...</td>\n",
       "      <td>train</td>\n",
       "    </tr>\n",
       "  </tbody>\n",
       "</table>\n",
       "</div>"
      ],
      "text/plain": [
       "                                              sentence  split\n",
       "idx                                                          \n",
       "0                                ash fell from the sky   test\n",
       "1    lord tresting frowned glancing up at the ruddy...  train\n",
       "2    tresting stood with his guest on small hilltop...  train\n",
       "3    tresting turned to the man standing beside him...    val\n",
       "4    the obligator turned raising an eyebrow the mo...  train"
      ]
     },
     "execution_count": 37,
     "metadata": {},
     "output_type": "execute_result"
    }
   ],
   "source": [
    "final_mistborn_df.head(5)"
   ]
  },
  {
   "cell_type": "code",
   "execution_count": 39,
   "metadata": {},
   "outputs": [],
   "source": [
    "final_mistborn_df.to_csv('../Datasets/mistborn_dataset.csv', index=False)"
   ]
  },
  {
   "cell_type": "markdown",
   "metadata": {},
   "source": [
    "# 🔥 Creación de Dataset PyTorch"
   ]
  },
  {
   "cell_type": "code",
   "execution_count": null,
   "metadata": {},
   "outputs": [],
   "source": [
    "# TBD"
   ]
  }
 ],
 "metadata": {
  "kernelspec": {
   "display_name": "NLP",
   "language": "python",
   "name": "python3"
  },
  "language_info": {
   "codemirror_mode": {
    "name": "ipython",
    "version": 3
   },
   "file_extension": ".py",
   "mimetype": "text/x-python",
   "name": "python",
   "nbconvert_exporter": "python",
   "pygments_lexer": "ipython3",
   "version": "3.11.5"
  }
 },
 "nbformat": 4,
 "nbformat_minor": 2
}
